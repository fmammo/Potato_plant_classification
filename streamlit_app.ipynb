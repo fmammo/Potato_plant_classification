{
 "cells": [
  {
   "cell_type": "markdown",
   "id": "ffd356d4-769c-4c13-9d14-f5a5995d7fdf",
   "metadata": {},
   "source": [
    "#### Import necessary libraries and load the files (image)"
   ]
  },
  {
   "cell_type": "code",
   "execution_count": 2,
   "id": "f6b736b7-13a0-42da-995b-4e6101f9669a",
   "metadata": {},
   "outputs": [
    {
     "name": "stdout",
     "output_type": "stream",
     "text": [
      "Overwriting app.py\n"
     ]
    }
   ],
   "source": [
    "%%writefile app.py\n",
    "import streamlit as st\n",
    "import tensorflow as tf\n",
    "import PIL\n",
    "#@st.cache_data(allow_output_mutation=True)\n",
    "def load_model():\n",
    "  model=tf.keras.models.load_model('potato_best_model.h5')\n",
    "  return model\n",
    "with st.spinner('Model is being loaded..'):\n",
    "  model=load_model()\n",
    "\n",
    "st.write(\"\"\"\n",
    "         # Potato Plant Classification\n",
    "         \"\"\"\n",
    "         )\n",
    "file = st.file_uploader(\"Please upload a potato leaf image file\", type=[\"jpg\", \"png\"])\n",
    "import cv2\n",
    "from PIL import Image, ImageOps\n",
    "import numpy as np\n",
    "st.set_option('deprecation.showfileUploaderEncoding', False)\n",
    "def import_and_predict(image_data, model):\n",
    "    \n",
    "        size = (256,256)    \n",
    "        image = ImageOps.fit(image_data, size, PIL.Image.LANCZOS)\n",
    "        image = np.asarray(image)\n",
    "        img = cv2.cvtColor(image, cv2.COLOR_BGR2RGB)\n",
    "        \n",
    "        \n",
    "        img_reshape = img[np.newaxis,...]\n",
    "    \n",
    "        prediction = model.predict(img_reshape)\n",
    "        \n",
    "        return prediction\n",
    "if file is None:\n",
    "    st.text(\"Please upload a potato leaf image file\")\n",
    "else:\n",
    "    image = Image.open(file)\n",
    "    st.image(image, use_column_width=True)\n",
    "    predictions = import_and_predict(image, model)\n",
    "    score = tf.nn.softmax(predictions[0])\n",
    "    st.write(predictions)\n",
    "    st.write(score)\n",
    "    data = tf.keras.preprocessing.image_dataset_from_directory(\n",
    "    \"potato_plant\",\n",
    "    shuffle = True,\n",
    "    image_size = (256, 256),\n",
    "    batch_size = 32  \n",
    ")\n",
    "    cl_name = data.class_names\n",
    "    print(\n",
    "    \"The image most likely belongs to {} with a {:.2f} percent confidence.\"\n",
    "    .format(cl_name[np.argmax(score)], 100 * np.max(score))\n",
    ")"
   ]
  },
  {
   "cell_type": "code",
   "execution_count": null,
   "id": "59eb77be-e7bd-4e9b-a4d5-9ae0ac08e931",
   "metadata": {},
   "outputs": [],
   "source": []
  }
 ],
 "metadata": {
  "kernelspec": {
   "display_name": "Python 3 (ipykernel)",
   "language": "python",
   "name": "python3"
  },
  "language_info": {
   "codemirror_mode": {
    "name": "ipython",
    "version": 3
   },
   "file_extension": ".py",
   "mimetype": "text/x-python",
   "name": "python",
   "nbconvert_exporter": "python",
   "pygments_lexer": "ipython3",
   "version": "3.11.7"
  }
 },
 "nbformat": 4,
 "nbformat_minor": 5
}
