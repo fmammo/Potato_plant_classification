{
 "cells": [
  {
   "cell_type": "markdown",
   "id": "ffd356d4-769c-4c13-9d14-f5a5995d7fdf",
   "metadata": {},
   "source": [
    "#### Import necessary libraries and load the files(image)"
   ]
  },
  {
   "cell_type": "code",
   "execution_count": 14,
   "id": "927cd1ea-e46d-4c06-b44a-e6a01ea7db2b",
   "metadata": {},
   "outputs": [],
   "source": [
    "# pip install streamlit"
   ]
  },
  {
   "cell_type": "code",
   "execution_count": 1,
   "id": "f6b736b7-13a0-42da-995b-4e6101f9669a",
   "metadata": {},
   "outputs": [
    {
     "name": "stdout",
     "output_type": "stream",
     "text": [
      "Overwriting app.py\n"
     ]
    }
   ],
   "source": [
    "%%writefile app.py\n",
    "import streamlit as st\n",
    "import tensorflow as tf\n",
    "\n",
    "@st.cache(allow_output_mutation=True)\n",
    "def load_model():\n",
    "  model=tf.keras.models.load_model('1.hdf5')\n",
    "  return model\n",
    "with st.spinner('Model is being loaded..'):\n",
    "  model=load_model()\n",
    "\n",
    "st.write(\"\"\"\n",
    "         # Potato Plant Classification\n",
    "         \"\"\"\n",
    "         )\n",
    "file = st.file_uploader(\"Please upload a potato leaf image file\", type=[\"jpg\", \"png\"])\n",
    "import cv2\n",
    "from PIL import Image, ImageOps\n",
    "import numpy as np\n",
    "st.set_option('deprecation.showfileUploaderEncoding', False)\n",
    "def import_and_predict(image_data, model):\n",
    "    \n",
    "        size = (256,256)    \n",
    "        image = ImageOps.fit(image_data, size, Image.ANTIALIAS)\n",
    "        image = np.asarray(image)\n",
    "        img = cv2.cvtColor(image, cv2.COLOR_BGR2RGB)\n",
    "        #img_resize = (cv2.resize(img, dsize=(75, 75),    interpolation=cv2.INTER_CUBIC))/255.\n",
    "        \n",
    "        img_reshape = img[np.newaxis,...]\n",
    "    \n",
    "        prediction = model.predict(img_reshape)\n",
    "        \n",
    "        return prediction\n",
    "if file is None:\n",
    "    st.text(\"Please upload a potato leaf image file\")\n",
    "else:\n",
    "    image = Image.open(file)\n",
    "    st.image(image, use_column_width=True)\n",
    "    predictions = import_and_predict(image, model)\n",
    "    score = tf.nn.softmax(predictions[0])\n",
    "    st.write(prediction)\n",
    "    st.write(score)\n",
    "    print(\n",
    "    \"The image most likely belongs to {} with a {:.2f} percent confidence.\"\n",
    "    .format(class_names[np.argmax(score)], 100 * np.max(score))\n",
    ")"
   ]
  },
  {
   "cell_type": "code",
   "execution_count": null,
   "id": "a374e371-87a7-4735-83d8-b549c2186dd7",
   "metadata": {},
   "outputs": [],
   "source": []
  }
 ],
 "metadata": {
  "kernelspec": {
   "display_name": "Python 3 (ipykernel)",
   "language": "python",
   "name": "python3"
  },
  "language_info": {
   "codemirror_mode": {
    "name": "ipython",
    "version": 3
   },
   "file_extension": ".py",
   "mimetype": "text/x-python",
   "name": "python",
   "nbconvert_exporter": "python",
   "pygments_lexer": "ipython3",
   "version": "3.11.7"
  }
 },
 "nbformat": 4,
 "nbformat_minor": 5
}
