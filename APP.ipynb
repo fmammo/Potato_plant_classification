{
 "cells": [
  {
   "cell_type": "markdown",
   "id": "ffd356d4-769c-4c13-9d14-f5a5995d7fdf",
   "metadata": {},
   "source": [
    "#### Import necessary libraries and load the files (image)"
   ]
  },
  {
   "cell_type": "code",
   "execution_count": 7,
   "id": "f6b736b7-13a0-42da-995b-4e6101f9669a",
   "metadata": {},
   "outputs": [
    {
     "name": "stdout",
     "output_type": "stream",
     "text": [
      "Overwriting app.py\n"
     ]
    }
   ],
   "source": [
    "%%writefile app.py \n",
    "import streamlit as st\n",
    "import tensorflow as tf\n",
    "import PIL\n",
    "from PIL import Image, ImageOps\n",
    "import numpy as np\n",
    "\n",
    "st.set_option('deprecation.showfileUploaderEncoding', False) # To ignore the warnning during uploading the image file\n",
    "#@st.cache_data(allow_output_mutation=True) # To make the below function load once and saved in cache memory once and we rerun it it done very quickly\n",
    "def load_model():\n",
    "  model=tf.keras.models.load_model('potato_best_model.h5')\n",
    "  return model\n",
    "# with st.spinner('Model is being loaded..'):\n",
    "model=load_model() # call Load model function and store it a variable called model\n",
    "\n",
    "st.write(\"\"\"\n",
    "         # Potato Plant Classification\n",
    "         \"\"\"\n",
    "         ) # Title for the webpage \n",
    "file = st.file_uploader(\"Please upload a potato leaf image file\", type=[\"jpg\", \"png\"]) # Uploading the image according to the provided image type \n",
    "\n",
    "#st.set_option('deprecation.showfileUploaderEncoding', False)\n",
    "def import_and_predict(image_data, model):\n",
    "    \n",
    "        size = (256,256)    \n",
    "        image = ImageOps.fit(image_data, size, PIL.Image.LANCZOS) # Resize and crop the image to fit within the target size (256,256)\n",
    "        img = np.asarray(image) # covert it to a numpy array\n",
    "        img_reshape = img[np.newaxis,...] # adding extra dimention which makes our image four dimention instaid of three\n",
    "        #img = cv2.cvtColor(image, cv2.COLOR_BGR2RGB) \n",
    "        prediction = model.predict(img_reshape)\n",
    "    \n",
    "        return prediction # return the prediction\n",
    "if file is None:\n",
    "    st.text(\"Please upload a potato leaf image file\") # If there is no file uploaded request to be uploaded \n",
    "else:\n",
    "    image = Image.open(file) # Open the uploaded image\n",
    "    st.image(image, use_column_width=True) # Display the image \n",
    "    predictions = import_and_predict(image, model) # Calll the function and supply the image and the model to it\n",
    "    class_names = ['Early_Blight','Healthy','Late_Blight'] # The three class names \n",
    "    string = \"The image most likely belongs to: \"+class_names[np.argmax(predictions)] # Displaying the prediction and store it to string\n",
    "    st.success(string) # out put the result\n"
   ]
  },
  {
   "cell_type": "code",
   "execution_count": null,
   "id": "59eb77be-e7bd-4e9b-a4d5-9ae0ac08e931",
   "metadata": {},
   "outputs": [],
   "source": []
  }
 ],
 "metadata": {
  "kernelspec": {
   "display_name": "Python 3 (ipykernel)",
   "language": "python",
   "name": "python3"
  },
  "language_info": {
   "codemirror_mode": {
    "name": "ipython",
    "version": 3
   },
   "file_extension": ".py",
   "mimetype": "text/x-python",
   "name": "python",
   "nbconvert_exporter": "python",
   "pygments_lexer": "ipython3",
   "version": "3.11.7"
  }
 },
 "nbformat": 4,
 "nbformat_minor": 5
}
